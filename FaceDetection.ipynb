{
 "cells": [
  {
   "cell_type": "code",
   "execution_count": 1,
   "id": "af7605d8",
   "metadata": {},
   "outputs": [],
   "source": [
    "import cv2\n",
    "\n",
    "# Read image\n",
    "img = cv2.imread('PIC.jpg')\n",
    "\n",
    "# Load a cascade file for detecting faces\n",
    "face_cascade = cv2.CascadeClassifier(r'C:\\Users\\dhill\\anaconda3\\pkgs\\opencv-4.5.5-py310h1e0e658_3\\Library\\etc\\haarcascades\\haarcascade_frontalface_alt.xml')\n",
    "\n",
    "# Convert to grayscale\n",
    "gray = cv2.imread('PIC.jpg',cv2.IMREAD_GRAYSCALE)\n",
    "\n",
    "# Look for faces in the image using the loaded cascade file\n",
    "faces = face_cascade.detectMultiScale(gray, 1.1, 5)\n",
    "\n",
    "# Draw a rectangle around every found face\n",
    "for (x, y, w, h) in faces:\n",
    "    cv2.rectangle(img, (x,y), (x+w,y+h), (255,0,0), 2)\n",
    "\n",
    "cv2.imshow(\"Display window\",img)    \n",
    "\n",
    "k=cv2.waitKey(0)\n",
    "cv2.destroyAllWindows()    \n",
    "   \n",
    "# Save the result image\n",
    "# cv2.imwrite('image_marked2.jpg', img)"
   ]
  }
 ],
 "metadata": {
  "kernelspec": {
   "display_name": "Python 3 (ipykernel)",
   "language": "python",
   "name": "python3"
  },
  "language_info": {
   "codemirror_mode": {
    "name": "ipython",
    "version": 3
   },
   "file_extension": ".py",
   "mimetype": "text/x-python",
   "name": "python",
   "nbconvert_exporter": "python",
   "pygments_lexer": "ipython3",
   "version": "3.10.4"
  }
 },
 "nbformat": 4,
 "nbformat_minor": 5
}
